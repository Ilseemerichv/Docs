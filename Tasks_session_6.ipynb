{
  "nbformat": 4,
  "nbformat_minor": 0,
  "metadata": {
    "colab": {
      "provenance": []
    },
    "kernelspec": {
      "name": "python3",
      "display_name": "Python 3"
    },
    "language_info": {
      "name": "python"
    }
  },
  "cells": [
    {
      "cell_type": "markdown",
      "source": [
        "1. Write a function that takes an integer HOURS and converts it to SECONDS.\n",
        "2. Given a list of numbers. write a program to turn every item of a list into Its square\n",
        "3. Given two strings, s1 and s2. Write a program to create a new string s3 made of the first char of s1, then the last char of s2, Next, the second char of s1 and second last char of s2, and so on. Any leftover chars go at the end of the result.\n",
        "4. Get the key of a minimum value from the given dictionary\n",
        "5. Write a program to calculate the sum of series up to n term. For example, if n =5 the series will become\n",
        "1 + 11 + 111 + 1111 + 11111\n",
        "6. Calculate multiplication of two random float numbers (generate random number first)"
      ],
      "metadata": {
        "id": "3hkCQXt-HeS_"
      }
    },
    {
      "cell_type": "code",
      "execution_count": 4,
      "metadata": {
        "id": "7Z63cbrjHJTf"
      },
      "outputs": [],
      "source": [
        "#Write a function that takes an integer HOURS and converts it to SECONDS\n",
        "def hours_to_seconds(hour) :\n",
        "  return hour * 3600"
      ]
    },
    {
      "cell_type": "code",
      "source": [
        "print(hours_to_seconds(2))"
      ],
      "metadata": {
        "colab": {
          "base_uri": "https://localhost:8080/"
        },
        "id": "EDCryVHvIQZf",
        "outputId": "dad427d4-3287-4e88-8599-f37261a7b007"
      },
      "execution_count": 7,
      "outputs": [
        {
          "output_type": "stream",
          "name": "stdout",
          "text": [
            "7200\n"
          ]
        }
      ]
    },
    {
      "cell_type": "code",
      "source": [
        "#Given a list of numbers. write a program to turn every item of a list into Its square\n",
        "numbers = [1,2,3,4,5,6,7,8,9]\n",
        "for i in range(len(numbers)):\n",
        "  numbers[i] = numbers[i]**2"
      ],
      "metadata": {
        "id": "1kU4avqIIV6V"
      },
      "execution_count": 9,
      "outputs": []
    },
    {
      "cell_type": "code",
      "source": [
        "print(numbers)"
      ],
      "metadata": {
        "colab": {
          "base_uri": "https://localhost:8080/"
        },
        "id": "hMxeN0DBIjfg",
        "outputId": "8dbcf462-a098-47a0-8f76-350eb8b11d1e"
      },
      "execution_count": 10,
      "outputs": [
        {
          "output_type": "stream",
          "name": "stdout",
          "text": [
            "[1, 4, 9, 16, 25, 36, 49, 64, 81]\n"
          ]
        }
      ]
    },
    {
      "cell_type": "code",
      "source": [
        "#Given two strings, s1 and s2. Write a program to create a new string s3 made of the first char of s1, then the last char of s2, Next, the second char of s1 and second last char of s2, and so on. Any leftover chars go at the end of the result.\n",
        "s1=\"abcdef\"\n",
        "s2=\"ghijk\"\n",
        "\n",
        "def combine_strings(s1, s2):\n",
        "    s3 = \"\"\n",
        "    len1 = len(s1)\n",
        "    len2 = len(s2)\n",
        "\n",
        "    min_len = min(len1, len2)\n",
        "\n",
        "    for i in range(min_len):\n",
        "        s3 += s1[i] + s2[-(i + 1)]\n",
        "\n",
        "    #Any leftover chars go at the end of the result.\n",
        "    if len1 > len2:\n",
        "        s3 += s1[min_len:]\n",
        "    elif len2 > len1:\n",
        "        s3 += s2[:len2 - min_len][::-1]\n",
        "\n",
        "    return s3\n",
        "\n",
        "result = combine_strings (s1,s2)\n"
      ],
      "metadata": {
        "id": "ZGqzHSRFJpIo"
      },
      "execution_count": 17,
      "outputs": []
    },
    {
      "cell_type": "code",
      "source": [
        "print(result)"
      ],
      "metadata": {
        "colab": {
          "base_uri": "https://localhost:8080/"
        },
        "id": "HxVRGlHgKR6b",
        "outputId": "723982e6-05f1-4bcf-ec9f-bf1995bb7e33"
      },
      "execution_count": 18,
      "outputs": [
        {
          "output_type": "stream",
          "name": "stdout",
          "text": [
            "akbjcidhegf\n"
          ]
        }
      ]
    },
    {
      "cell_type": "code",
      "source": [
        "#Get the key of a minimum value from the given dictionary\n",
        "def key_of_min_value(d):\n",
        "    return min(d, key=d.get)\n",
        "\n",
        "my_dict = {'a': 5, 'b': 2, 'c': 9, 'd': 1, 'e': 0}\n",
        "min_key = key_of_min_value(my_dict)"
      ],
      "metadata": {
        "id": "rzbTr8X4LwrH"
      },
      "execution_count": 21,
      "outputs": []
    },
    {
      "cell_type": "code",
      "source": [
        "print(min_key)"
      ],
      "metadata": {
        "colab": {
          "base_uri": "https://localhost:8080/"
        },
        "id": "ScGCc1wzMGFl",
        "outputId": "f1d148d0-2430-4791-a453-76f9d6d2d4e8"
      },
      "execution_count": 22,
      "outputs": [
        {
          "output_type": "stream",
          "name": "stdout",
          "text": [
            "e\n"
          ]
        }
      ]
    },
    {
      "cell_type": "code",
      "source": [
        "#Write a program to calculate the sum of series up to n term. For example, if n =5 the series will become 1 + 11 + 111 + 1111 + 11111\n",
        "def sum_series(n):\n",
        "    total = 0\n",
        "    current_term = 0\n",
        "    for _ in range(n):\n",
        "        current_term = current_term * 10 + 1  # generates 1, 11, 111, ...\n",
        "        total += current_term\n",
        "    return total\n",
        "\n",
        "\n",
        "n = 5\n",
        "result = sum_series(n)\n",
        "print(f\"The sum of the series up to {n} terms is: {result}\")"
      ],
      "metadata": {
        "colab": {
          "base_uri": "https://localhost:8080/"
        },
        "id": "Pdwhozk4Lx3h",
        "outputId": "cb686cfb-d942-4d92-c30b-ab4c1bda598f"
      },
      "execution_count": 23,
      "outputs": [
        {
          "output_type": "stream",
          "name": "stdout",
          "text": [
            "The sum of the series up to 5 terms is: 12345\n"
          ]
        }
      ]
    },
    {
      "cell_type": "code",
      "source": [
        "#Calculate multiplication of two random float numbers (generate random number first)\n",
        "import random\n",
        "\n",
        "# Generate two random float numbers between 0 and 1\n",
        "num1 = random.random()\n",
        "num2 = random.random()\n",
        "\n",
        "# Calculate the multiplication\n",
        "result = num1 * num2\n",
        "\n",
        "print(f\"First random number: {num1}\")\n",
        "print(f\"Second random number: {num2}\")\n",
        "print(f\"Multiplication result: {result}\")"
      ],
      "metadata": {
        "colab": {
          "base_uri": "https://localhost:8080/"
        },
        "id": "emkkB4AGL0Zp",
        "outputId": "eb9aff86-b859-4c4d-8403-4a65f6f366e1"
      },
      "execution_count": 24,
      "outputs": [
        {
          "output_type": "stream",
          "name": "stdout",
          "text": [
            "First random number: 0.35556542668649516\n",
            "Second random number: 0.6856036108306738\n",
            "Multiplication result: 0.24377694042281028\n"
          ]
        }
      ]
    }
  ]
}