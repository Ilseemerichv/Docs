{
  "cells": [
    {
      "cell_type": "markdown",
      "metadata": {
        "id": "cvmupTYAtgZ2"
      },
      "source": [
        "# Intrduction to NumPy\n",
        "\n",
        "\n",
        "#### 1. Import NumPy under the name np."
      ]
    },
    {
      "cell_type": "code",
      "execution_count": 1,
      "metadata": {
        "id": "1ht4Ro0dtgZ5"
      },
      "outputs": [],
      "source": [
        "import numpy as np"
      ]
    },
    {
      "cell_type": "markdown",
      "metadata": {
        "id": "7txY7FUDtgZ5"
      },
      "source": [
        "#### 2. Print your NumPy version."
      ]
    },
    {
      "cell_type": "code",
      "execution_count": 2,
      "metadata": {
        "colab": {
          "base_uri": "https://localhost:8080/"
        },
        "id": "jfBILRZ7tgZ6",
        "outputId": "6f8af1ff-3108-4c63-fb1f-d5ab31718e2b"
      },
      "outputs": [
        {
          "output_type": "stream",
          "name": "stdout",
          "text": [
            "2.0.2\n"
          ]
        }
      ],
      "source": [
        "print(np.__version__)"
      ]
    },
    {
      "cell_type": "markdown",
      "metadata": {
        "id": "F9nGj3ibtgZ6"
      },
      "source": [
        "#### 3. Generate a 2x3x5 3-dimensional array with random values. Assign the array to variable *a*. (parecido a una matriz*)\n",
        "**Challenge**: there are at least three easy ways that use numpy to generate random arrays. How many ways can you find?"
      ]
    },
    {
      "cell_type": "code",
      "execution_count": 4,
      "metadata": {
        "colab": {
          "base_uri": "https://localhost:8080/"
        },
        "id": "x8Ls0M31tgZ6",
        "outputId": "85867106-40a0-41dd-cbb3-25f6bfbd57ea"
      },
      "outputs": [
        {
          "output_type": "stream",
          "name": "stdout",
          "text": [
            "[[[0.70163352 0.77954979 0.44960988 0.88015187 0.94976488]\n",
            "  [0.35485185 0.60792222 0.36612076 0.45920626 0.5425864 ]\n",
            "  [0.18632835 0.12934642 0.69145961 0.32795494 0.51944439]]\n",
            "\n",
            " [[0.89125408 0.8428105  0.32468677 0.26422415 0.32146972]\n",
            "  [0.43390472 0.86009634 0.46903714 0.64331979 0.95540613]\n",
            "  [0.09799231 0.4032409  0.52727411 0.11242894 0.97192062]]]\n"
          ]
        }
      ],
      "source": [
        "a = np.random.rand(2, 3, 5)\n",
        "print(a)"
      ]
    },
    {
      "cell_type": "code",
      "execution_count": 6,
      "metadata": {
        "colab": {
          "base_uri": "https://localhost:8080/"
        },
        "id": "jnZtLBGitgZ6",
        "outputId": "f6a0b040-8cf5-4da8-b0ae-60efca375399"
      },
      "outputs": [
        {
          "output_type": "stream",
          "name": "stdout",
          "text": [
            "[[[0.31592919 0.16928176 0.88514421 0.54711166 0.55601124]\n",
            "  [0.19538111 0.21745356 0.9271185  0.0164816  0.03554723]\n",
            "  [0.5782227  0.98125001 0.78130312 0.71016611 0.19977677]]\n",
            "\n",
            " [[0.13503181 0.06272017 0.29182281 0.32185369 0.41467649]\n",
            "  [0.38179514 0.93227647 0.93294137 0.04189906 0.69467602]\n",
            "  [0.47398704 0.21043973 0.30516845 0.99358292 0.80379931]]]\n"
          ]
        }
      ],
      "source": [
        "a = np.random.random((2, 3, 5))\n",
        "print(a)"
      ]
    },
    {
      "cell_type": "code",
      "execution_count": 21,
      "metadata": {
        "colab": {
          "base_uri": "https://localhost:8080/"
        },
        "id": "griM_ltltgZ6",
        "outputId": "0fc617e5-c16d-496d-bd64-d7f8490a89c9"
      },
      "outputs": [
        {
          "output_type": "stream",
          "name": "stdout",
          "text": [
            "[[[3 5 0 6 1]\n",
            "  [7 3 5 9 1]\n",
            "  [3 1 8 8 0]]\n",
            "\n",
            " [[8 6 7 8 1]\n",
            "  [1 0 1 8 6]\n",
            "  [5 1 3 5 6]]]\n"
          ]
        }
      ],
      "source": [
        "a = np.random.randint(0, 10, size=(2, 3, 5))\n",
        "print(a)"
      ]
    },
    {
      "cell_type": "markdown",
      "metadata": {
        "id": "WJeHN2qCtgZ7"
      },
      "source": [
        "#### 4. Print *a*.\n"
      ]
    },
    {
      "cell_type": "code",
      "execution_count": 22,
      "metadata": {
        "colab": {
          "base_uri": "https://localhost:8080/"
        },
        "id": "F5mSgoNhtgZ7",
        "outputId": "22610b60-421b-4c41-937f-05b3b3dec96d"
      },
      "outputs": [
        {
          "output_type": "stream",
          "name": "stdout",
          "text": [
            "[[[3 5 0 6 1]\n",
            "  [7 3 5 9 1]\n",
            "  [3 1 8 8 0]]\n",
            "\n",
            " [[8 6 7 8 1]\n",
            "  [1 0 1 8 6]\n",
            "  [5 1 3 5 6]]]\n"
          ]
        }
      ],
      "source": [
        "print(a)"
      ]
    },
    {
      "cell_type": "markdown",
      "metadata": {
        "id": "sW5SXLF6tgZ7"
      },
      "source": [
        "#### 5. Create a 5x2x3 3-dimensional array with all values equaling 1. Assign the array to variable *b*."
      ]
    },
    {
      "cell_type": "code",
      "execution_count": 24,
      "metadata": {
        "id": "aXnOlt0ftgZ7"
      },
      "outputs": [],
      "source": [
        "b = np.random.randint(1, 2, size=(5, 2, 3))"
      ]
    },
    {
      "cell_type": "markdown",
      "metadata": {
        "id": "xxasd1--tgZ7"
      },
      "source": [
        "#### 6. Print *b*.\n"
      ]
    },
    {
      "cell_type": "code",
      "execution_count": 47,
      "metadata": {
        "colab": {
          "base_uri": "https://localhost:8080/"
        },
        "id": "N6JpYBQitgZ7",
        "outputId": "a3a9216d-44e5-422e-af47-11427e5fc1da"
      },
      "outputs": [
        {
          "output_type": "stream",
          "name": "stdout",
          "text": [
            "[[[1. 1. 1.]\n",
            "  [1. 1. 1.]]\n",
            "\n",
            " [[1. 1. 1.]\n",
            "  [1. 1. 1.]]\n",
            "\n",
            " [[1. 1. 1.]\n",
            "  [1. 1. 1.]]\n",
            "\n",
            " [[1. 1. 1.]\n",
            "  [1. 1. 1.]]\n",
            "\n",
            " [[1. 1. 1.]\n",
            "  [1. 1. 1.]]]\n"
          ]
        }
      ],
      "source": [
        "print(b)"
      ]
    },
    {
      "cell_type": "code",
      "source": [
        "#2nd option:\n",
        "b = np.ones((5, 2, 3))\n",
        "print(b)"
      ],
      "metadata": {
        "colab": {
          "base_uri": "https://localhost:8080/"
        },
        "id": "Ud3F5MTcvhbC",
        "outputId": "89ad0b1f-92ce-43dc-cbe3-65b423abd5f5"
      },
      "execution_count": 46,
      "outputs": [
        {
          "output_type": "stream",
          "name": "stdout",
          "text": [
            "[[[1. 1. 1.]\n",
            "  [1. 1. 1.]]\n",
            "\n",
            " [[1. 1. 1.]\n",
            "  [1. 1. 1.]]\n",
            "\n",
            " [[1. 1. 1.]\n",
            "  [1. 1. 1.]]\n",
            "\n",
            " [[1. 1. 1.]\n",
            "  [1. 1. 1.]]\n",
            "\n",
            " [[1. 1. 1.]\n",
            "  [1. 1. 1.]]]\n"
          ]
        }
      ]
    },
    {
      "cell_type": "markdown",
      "metadata": {
        "id": "BgLroIrwtgZ7"
      },
      "source": [
        "#### 7. Do *a* and *b* have the same size? How do you prove that in Python code?"
      ]
    },
    {
      "cell_type": "code",
      "execution_count": 26,
      "metadata": {
        "colab": {
          "base_uri": "https://localhost:8080/"
        },
        "id": "WJ_WW00TtgZ7",
        "outputId": "2be01cba-b27b-403e-ced6-b3130f4fc7b6"
      },
      "outputs": [
        {
          "output_type": "stream",
          "name": "stdout",
          "text": [
            "30\n",
            "30\n"
          ]
        }
      ],
      "source": [
        "print(a.size)\n",
        "print(b.size)\n",
        "#Yes, they have the same size"
      ]
    },
    {
      "cell_type": "markdown",
      "metadata": {
        "id": "cWq6-3nltgZ8"
      },
      "source": [
        "#### 8. Are you able to add *a* and *b*? Why or why not?\n"
      ]
    },
    {
      "cell_type": "code",
      "execution_count": 27,
      "metadata": {
        "colab": {
          "base_uri": "https://localhost:8080/",
          "height": 158
        },
        "id": "veFMxgKftgZ8",
        "outputId": "7c80eff2-f8f4-4b61-c1b6-384a81838f3c"
      },
      "outputs": [
        {
          "output_type": "error",
          "ename": "ValueError",
          "evalue": "operands could not be broadcast together with shapes (2,3,5) (5,2,3) ",
          "traceback": [
            "\u001b[0;31m---------------------------------------------------------------------------\u001b[0m",
            "\u001b[0;31mValueError\u001b[0m                                Traceback (most recent call last)",
            "\u001b[0;32m/tmp/ipython-input-27-555492314.py\u001b[0m in \u001b[0;36m<cell line: 0>\u001b[0;34m()\u001b[0m\n\u001b[0;32m----> 1\u001b[0;31m \u001b[0mc\u001b[0m \u001b[0;34m=\u001b[0m \u001b[0ma\u001b[0m \u001b[0;34m+\u001b[0m \u001b[0mb\u001b[0m\u001b[0;34m\u001b[0m\u001b[0;34m\u001b[0m\u001b[0m\n\u001b[0m\u001b[1;32m      2\u001b[0m \u001b[0mprint\u001b[0m\u001b[0;34m(\u001b[0m\u001b[0mc\u001b[0m\u001b[0;34m)\u001b[0m\u001b[0;34m\u001b[0m\u001b[0;34m\u001b[0m\u001b[0m\n",
            "\u001b[0;31mValueError\u001b[0m: operands could not be broadcast together with shapes (2,3,5) (5,2,3) "
          ]
        }
      ],
      "source": [
        "c = a + b\n",
        "print(c)\n",
        "#No, we cannot add a and b because their shapes are different and not the same. Array a has the shape (2, 3, 5) and array b has the shape (5, 2, 3)."
      ]
    },
    {
      "cell_type": "markdown",
      "metadata": {
        "id": "97rX6u03tgZ8"
      },
      "source": [
        "#### 9. Transpose *b* so that it has the same structure of *a* (i.e. become a 2x3x5 array). Assign the transposed array to variable *c*."
      ]
    },
    {
      "cell_type": "code",
      "execution_count": 49,
      "metadata": {
        "id": "LMQLTnmGtgZ8"
      },
      "outputs": [],
      "source": [
        "c = b.transpose(1, 2, 0)"
      ]
    },
    {
      "cell_type": "code",
      "source": [
        "print(c)\n",
        "print(c.shape)\n",
        "print(a)\n",
        "print(a.shape)"
      ],
      "metadata": {
        "colab": {
          "base_uri": "https://localhost:8080/"
        },
        "id": "CYvPqwQExr-B",
        "outputId": "4bf4f63c-bf93-4ffd-c28c-dd5048745c05"
      },
      "execution_count": 50,
      "outputs": [
        {
          "output_type": "stream",
          "name": "stdout",
          "text": [
            "[[[1. 1. 1. 1. 1.]\n",
            "  [1. 1. 1. 1. 1.]\n",
            "  [1. 1. 1. 1. 1.]]\n",
            "\n",
            " [[1. 1. 1. 1. 1.]\n",
            "  [1. 1. 1. 1. 1.]\n",
            "  [1. 1. 1. 1. 1.]]]\n",
            "(2, 3, 5)\n",
            "[[[3 5 0 6 1]\n",
            "  [7 3 5 9 1]\n",
            "  [3 1 8 8 0]]\n",
            "\n",
            " [[8 6 7 8 1]\n",
            "  [1 0 1 8 6]\n",
            "  [5 1 3 5 6]]]\n",
            "(2, 3, 5)\n"
          ]
        }
      ]
    },
    {
      "cell_type": "markdown",
      "metadata": {
        "id": "jUdGjRO_tgZ8"
      },
      "source": [
        "#### 10. Try to add *a* and *c*. Now it should work. Assign the sum to variable *d*. But why does it work now?"
      ]
    },
    {
      "cell_type": "code",
      "execution_count": 41,
      "metadata": {
        "colab": {
          "base_uri": "https://localhost:8080/"
        },
        "id": "afX-PlXotgZ8",
        "outputId": "bbfba37d-251f-4799-a53d-307adde5111c"
      },
      "outputs": [
        {
          "output_type": "stream",
          "name": "stdout",
          "text": [
            "[[[ 4.  6.  1.  7.  2.]\n",
            "  [ 8.  4.  6. 10.  2.]\n",
            "  [ 4.  2.  9.  9.  1.]]\n",
            "\n",
            " [[ 9.  7.  8.  9.  2.]\n",
            "  [ 2.  1.  2.  9.  7.]\n",
            "  [ 6.  2.  4.  6.  7.]]]\n"
          ]
        }
      ],
      "source": [
        "d = a + c\n",
        "print(d)\n",
        "#Yes, it wor because now they have the same shape (2, 3, 5)"
      ]
    },
    {
      "cell_type": "markdown",
      "metadata": {
        "id": "FwBS6I1KtgZ8"
      },
      "source": [
        "#### 11. Print *a* and *d*. Notice the difference and relation of the two array in terms of the values? Explain."
      ]
    },
    {
      "cell_type": "code",
      "execution_count": 42,
      "metadata": {
        "colab": {
          "base_uri": "https://localhost:8080/"
        },
        "id": "i_ad4aKVtgZ8",
        "outputId": "2a23392c-3316-472e-af51-3c0746e8c19a"
      },
      "outputs": [
        {
          "output_type": "stream",
          "name": "stdout",
          "text": [
            "[[[3 5 0 6 1]\n",
            "  [7 3 5 9 1]\n",
            "  [3 1 8 8 0]]\n",
            "\n",
            " [[8 6 7 8 1]\n",
            "  [1 0 1 8 6]\n",
            "  [5 1 3 5 6]]]\n",
            "[[[ 4.  6.  1.  7.  2.]\n",
            "  [ 8.  4.  6. 10.  2.]\n",
            "  [ 4.  2.  9.  9.  1.]]\n",
            "\n",
            " [[ 9.  7.  8.  9.  2.]\n",
            "  [ 2.  1.  2.  9.  7.]\n",
            "  [ 6.  2.  4.  6.  7.]]]\n"
          ]
        }
      ],
      "source": [
        "print(a)\n",
        "print(d)\n",
        "#The difference is that a contains integer values, while d contains float values (decimals).\n",
        "#In this operation between an integer array (a) and a float array (c), NumPy automatically converts the result to float."
      ]
    },
    {
      "cell_type": "code",
      "source": [
        "print(a.dtype)\n",
        "print(b.dtype)\n",
        "print(c.dtype)\n",
        "print(d.dtype)"
      ],
      "metadata": {
        "colab": {
          "base_uri": "https://localhost:8080/"
        },
        "id": "FttvWQAeza8J",
        "outputId": "20d7ea70-3e87-47a2-a597-0ce9c94e27d6"
      },
      "execution_count": 45,
      "outputs": [
        {
          "output_type": "stream",
          "name": "stdout",
          "text": [
            "int64\n",
            "float64\n",
            "float64\n",
            "float64\n"
          ]
        }
      ]
    },
    {
      "cell_type": "markdown",
      "metadata": {
        "id": "Lf4UVGGLtgZ8"
      },
      "source": [
        "#### 12. Multiply *a* and *c*. Assign the result to *e*."
      ]
    },
    {
      "cell_type": "code",
      "execution_count": 52,
      "metadata": {
        "colab": {
          "base_uri": "https://localhost:8080/"
        },
        "id": "YL0vZaujtgZ8",
        "outputId": "f0e8b6c4-3ac0-4580-888e-faf06c1b20d5"
      },
      "outputs": [
        {
          "output_type": "stream",
          "name": "stdout",
          "text": [
            "[[[3. 5. 0. 6. 1.]\n",
            "  [7. 3. 5. 9. 1.]\n",
            "  [3. 1. 8. 8. 0.]]\n",
            "\n",
            " [[8. 6. 7. 8. 1.]\n",
            "  [1. 0. 1. 8. 6.]\n",
            "  [5. 1. 3. 5. 6.]]]\n"
          ]
        }
      ],
      "source": [
        "e = a * c\n",
        "print(e)"
      ]
    },
    {
      "cell_type": "markdown",
      "metadata": {
        "id": "rN2QPVw8tgZ8"
      },
      "source": [
        "#### 13. Does *e* equal to *a*? Why or why not?\n"
      ]
    },
    {
      "cell_type": "code",
      "execution_count": 53,
      "metadata": {
        "colab": {
          "base_uri": "https://localhost:8080/"
        },
        "id": "BP9U_MlktgZ8",
        "outputId": "a5800da3-802e-4309-ee13-350be43d5487"
      },
      "outputs": [
        {
          "output_type": "stream",
          "name": "stdout",
          "text": [
            "[[[3 5 0 6 1]\n",
            "  [7 3 5 9 1]\n",
            "  [3 1 8 8 0]]\n",
            "\n",
            " [[8 6 7 8 1]\n",
            "  [1 0 1 8 6]\n",
            "  [5 1 3 5 6]]]\n",
            "[[[3. 5. 0. 6. 1.]\n",
            "  [7. 3. 5. 9. 1.]\n",
            "  [3. 1. 8. 8. 0.]]\n",
            "\n",
            " [[8. 6. 7. 8. 1.]\n",
            "  [1. 0. 1. 8. 6.]\n",
            "  [5. 1. 3. 5. 6.]]]\n"
          ]
        }
      ],
      "source": [
        "print(a)\n",
        "print(e)\n",
        "#Yes, because the array c has only \"1\" values."
      ]
    },
    {
      "cell_type": "markdown",
      "metadata": {
        "id": "4EoZ8i3htgZ8"
      },
      "source": [
        "#### 14. Identify the max, min, and mean values in *d*. Assign those values to variables *d_max*, *d_min* and *d_mean*."
      ]
    },
    {
      "cell_type": "code",
      "execution_count": 55,
      "metadata": {
        "colab": {
          "base_uri": "https://localhost:8080/"
        },
        "id": "yLuXBCZHtgZ8",
        "outputId": "d9b5ae8a-728e-4f6a-d7df-24e18c4ad175"
      },
      "outputs": [
        {
          "output_type": "stream",
          "name": "stdout",
          "text": [
            "10.0\n",
            "1.0\n",
            "5.2\n"
          ]
        }
      ],
      "source": [
        "d_max = np.max(d)\n",
        "d_min = np.min(d)\n",
        "d_mean = np.mean(d)\n",
        "\n",
        "print(d_max)\n",
        "print(d_min)\n",
        "print(d_mean)"
      ]
    },
    {
      "cell_type": "markdown",
      "metadata": {
        "id": "7x2O0EHEtgZ8"
      },
      "source": [
        "#### 15. Now we want to label the values in *d*. First create an empty array *f* with the same shape (i.e. 2x3x5) as *d* using `np.empty`.\n"
      ]
    },
    {
      "cell_type": "code",
      "execution_count": 57,
      "metadata": {
        "colab": {
          "base_uri": "https://localhost:8080/"
        },
        "id": "wxTeFBFqtgZ8",
        "outputId": "212f0293-abd0-40bd-b1e8-765ef11049fc"
      },
      "outputs": [
        {
          "output_type": "stream",
          "name": "stdout",
          "text": [
            "[[[3. 5. 0. 6. 1.]\n",
            "  [7. 3. 5. 9. 1.]\n",
            "  [3. 1. 8. 8. 0.]]\n",
            "\n",
            " [[8. 6. 7. 8. 1.]\n",
            "  [1. 0. 1. 8. 6.]\n",
            "  [5. 1. 3. 5. 6.]]]\n"
          ]
        }
      ],
      "source": [
        "f = np.empty((2, 3, 5))\n",
        "print(f)"
      ]
    },
    {
      "cell_type": "markdown",
      "metadata": {
        "id": "D5NS8-4etgZ8"
      },
      "source": [
        "#### 16. Populate the values in *f*.\n",
        "\n",
        "For each value in *d*, if it's larger than *d_min* but smaller than *d_mean*, assign 25 to the corresponding value in *f*. If a value in *d* is larger than *d_mean* but smaller than *d_max*, assign 75 to the corresponding value in *f*. If a value equals to *d_mean*, assign 50 to the corresponding value in *f*. Assign 0 to the corresponding value(s) in *f* for *d_min* in *d*. Assign 100 to the corresponding value(s) in *f* for *d_max* in *d*. In the end, f should have only the following values: 0, 25, 50, 75, and 100.\n",
        "\n",
        "**Note**: you don't have to use Numpy in this question."
      ]
    },
    {
      "cell_type": "code",
      "execution_count": 58,
      "metadata": {
        "colab": {
          "base_uri": "https://localhost:8080/"
        },
        "id": "U5PBnzQYtgZ8",
        "outputId": "769120fc-d3c0-400c-fd08-2ba6a8ba6159"
      },
      "outputs": [
        {
          "output_type": "stream",
          "name": "stdout",
          "text": [
            "[[[ 25.  75.   0.  75.  25.]\n",
            "  [ 75.  25.  75. 100.  25.]\n",
            "  [ 25.  25.  75.  75.   0.]]\n",
            "\n",
            " [[ 75.  75.  75.  75.  25.]\n",
            "  [ 25.   0.  25.  75.  75.]\n",
            "  [ 75.  25.  25.  75.  75.]]]\n"
          ]
        }
      ],
      "source": [
        "f[(d == d_min)] = 0\n",
        "f[(d > d_min) & (d < d_mean)] = 25\n",
        "f[(d == d_mean)] = 50\n",
        "f[(d > d_mean) & (d < d_max)] = 75\n",
        "f[(d == d_max)] = 100\n",
        "\n",
        "print(f)"
      ]
    },
    {
      "cell_type": "markdown",
      "metadata": {
        "id": "h1-J3mQGtgZ8"
      },
      "source": [
        "#### 17. Print *d* and *f*. Do you have your expected *f*?\n",
        "For instance, if your *d* is:\n",
        "```python\n",
        "[[[1.85836099, 1.67064465, 1.62576044, 1.40243961, 1.88454931],\n",
        "[1.75354326, 1.69403643, 1.36729252, 1.61415071, 1.12104981],\n",
        "[1.72201435, 1.1862918 , 1.87078449, 1.7726778 , 1.88180042]],\n",
        "[[1.44747908, 1.31673383, 1.02000951, 1.52218947, 1.97066381],\n",
        "[1.79129243, 1.74983003, 1.96028037, 1.85166831, 1.65450881],\n",
        "[1.18068344, 1.9587381 , 1.00656599, 1.93402165, 1.73514584]]]\n",
        "```\n",
        "Your *f* should be:\n",
        "```python\n",
        "[[[ 75.,  75.,  75.,  25.,  75.],\n",
        "[ 75.,  75.,  25.,  25.,  25.],\n",
        "[ 75.,  25.,  75.,  75.,  75.]],\n",
        "[[ 25.,  25.,  25.,  25., 100.],\n",
        "[ 75.,  75.,  75.,  75.,  75.],\n",
        "[ 25.,  75.,   0.,  75.,  75.]]]\n",
        "```"
      ]
    },
    {
      "cell_type": "code",
      "execution_count": 59,
      "metadata": {
        "colab": {
          "base_uri": "https://localhost:8080/"
        },
        "id": "mAXh0ZvhtgZ8",
        "outputId": "b0a6d25d-96c4-463a-d9be-d66b4d932690"
      },
      "outputs": [
        {
          "output_type": "stream",
          "name": "stdout",
          "text": [
            "[[[ 4.  6.  1.  7.  2.]\n",
            "  [ 8.  4.  6. 10.  2.]\n",
            "  [ 4.  2.  9.  9.  1.]]\n",
            "\n",
            " [[ 9.  7.  8.  9.  2.]\n",
            "  [ 2.  1.  2.  9.  7.]\n",
            "  [ 6.  2.  4.  6.  7.]]]\n",
            "[[[ 25.  75.   0.  75.  25.]\n",
            "  [ 75.  25.  75. 100.  25.]\n",
            "  [ 25.  25.  75.  75.   0.]]\n",
            "\n",
            " [[ 75.  75.  75.  75.  25.]\n",
            "  [ 25.   0.  25.  75.  75.]\n",
            "  [ 75.  25.  25.  75.  75.]]]\n"
          ]
        }
      ],
      "source": [
        "print(d)\n",
        "print(f)"
      ]
    },
    {
      "cell_type": "markdown",
      "metadata": {
        "id": "20A8nKyAtgZ9"
      },
      "source": [
        "#### 18. Bonus question: instead of using numbers (i.e. 0, 25, 50, 75, and 100), use string values  (\"A\", \"B\", \"C\", \"D\", and \"E\") to label the array elements. For the example above, the expected result is:\n",
        "\n",
        "```python\n",
        "[[[ 'D',  'D',  'D',  'B',  'D'],\n",
        "[ 'D',  'D',  'B',  'B',  'B'],\n",
        "[ 'D',  'B',  'D',  'D',  'D']],\n",
        "[[ 'B',  'B',  'B',  'B',  'E'],\n",
        "[ 'D',  'D',  'D',  'D',  'D'],\n",
        "[ 'B',  'D',   'A',  'D', 'D']]]\n",
        "```\n",
        "**Note**: you don't have to use Numpy in this question."
      ]
    },
    {
      "cell_type": "code",
      "execution_count": 64,
      "metadata": {
        "colab": {
          "base_uri": "https://localhost:8080/"
        },
        "id": "QYm4o8ZPtgZ9",
        "outputId": "4c7890b5-9c5f-4097-caae-2ad0b15d8469"
      },
      "outputs": [
        {
          "output_type": "stream",
          "name": "stdout",
          "text": [
            "[[['B' 'D' 'A' 'D' 'B']\n",
            "  ['D' 'B' 'D' 'E' 'B']\n",
            "  ['B' 'B' 'D' 'D' 'A']]\n",
            "\n",
            " [['D' 'D' 'D' 'D' 'B']\n",
            "  ['B' 'A' 'B' 'D' 'D']\n",
            "  ['D' 'B' 'B' 'D' 'D']]]\n"
          ]
        }
      ],
      "source": [
        "f_str = np.empty(f.shape, dtype=str)\n",
        "\n",
        "f_str[(d == d_min)] = \"A\"\n",
        "f_str[(d > d_min) & (d < d_mean)] = \"B\"\n",
        "f_str[(d == d_mean)] = \"C\"\n",
        "f_str[(d > d_mean) & (d < d_max)] = \"D\"\n",
        "f_str[(d == d_max)] = \"E\"\n",
        "\n",
        "print(f_str)"
      ]
    }
  ],
  "metadata": {
    "kernelspec": {
      "display_name": "Python 3",
      "language": "python",
      "name": "python3"
    },
    "language_info": {
      "codemirror_mode": {
        "name": "ipython",
        "version": 3
      },
      "file_extension": ".py",
      "mimetype": "text/x-python",
      "name": "python",
      "nbconvert_exporter": "python",
      "pygments_lexer": "ipython3",
      "version": "3.7.2"
    },
    "colab": {
      "provenance": []
    }
  },
  "nbformat": 4,
  "nbformat_minor": 0
}